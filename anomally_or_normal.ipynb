{
 "cells": [
  {
   "cell_type": "code",
   "execution_count": 1,
   "metadata": {},
   "outputs": [],
   "source": [
    "import pandas as pd \n",
    "import numpy as np \n",
    "import arff\n",
    "from sklearn.model_selection import train_test_split\n",
    "from sklearn.linear_model import LogisticRegression\n",
    "from sklearn.preprocessing import StandardScaler, OneHotEncoder\n",
    "from sklearn.compose import ColumnTransformer\n",
    "from sklearn.pipeline import Pipeline\n",
    "from sklearn.impute import SimpleImputer\n",
    "from sklearn.metrics import accuracy_score, precision_score, recall_score, f1_score, confusion_matrix\n"
   ]
  },
  {
   "cell_type": "code",
   "execution_count": 2,
   "metadata": {},
   "outputs": [
    {
     "data": {
      "text/plain": [
       "dict_keys(['description', 'relation', 'attributes', 'data'])"
      ]
     },
     "execution_count": 2,
     "metadata": {},
     "output_type": "execute_result"
    }
   ],
   "source": [
    "with open(\"../datasets/NSL-KDD/KDDTrain+.arff\") as arch:\n",
    "    KDD_Train = arff.load(arch)\n",
    "\n",
    "KDD_Train.keys()"
   ]
  },
  {
   "cell_type": "code",
   "execution_count": 3,
   "metadata": {},
   "outputs": [],
   "source": [
    "data = KDD_Train[\"data\"]"
   ]
  },
  {
   "cell_type": "code",
   "execution_count": 4,
   "metadata": {},
   "outputs": [],
   "source": [
    "val_columns = [val[0] for val in KDD_Train[\"attributes\"]]"
   ]
  },
  {
   "cell_type": "code",
   "execution_count": 5,
   "metadata": {},
   "outputs": [],
   "source": [
    "columns = KDD_Train[\"attributes\"]"
   ]
  },
  {
   "cell_type": "code",
   "execution_count": 6,
   "metadata": {},
   "outputs": [],
   "source": [
    "df = pd.DataFrame(data=data,columns=val_columns)"
   ]
  },
  {
   "cell_type": "code",
   "execution_count": 7,
   "metadata": {},
   "outputs": [],
   "source": [
    "y = df[[\"class\"]]\n",
    "df_num = df.select_dtypes(include=['float64', 'int64'])\n",
    "df_obj = df.drop(columns=\"class\").select_dtypes(include=\"object\")\n",
    "\n",
    "num_pipeline = Pipeline(steps=[\n",
    "    ('imputer', SimpleImputer(strategy='mean')),\n",
    "    ('scaler', StandardScaler())\n",
    "])\n",
    "\n",
    "obj_pipeline = Pipeline(steps=[\n",
    "    ('imputer', SimpleImputer(strategy='most_frequent')),\n",
    "    ('onehot', OneHotEncoder(handle_unknown='ignore'))\n",
    "])\n",
    "\n",
    "full_pipeline = ColumnTransformer(\n",
    "    transformers=[\n",
    "        ('num', num_pipeline,df_num.columns),\n",
    "        ('cat', obj_pipeline,df_obj.columns)\n",
    "    ])"
   ]
  },
  {
   "cell_type": "code",
   "execution_count": 8,
   "metadata": {},
   "outputs": [],
   "source": [
    "def data_processing(df_num1,df_obj1):\n",
    "    df = pd.concat((df_num1,df_obj1,y),axis=1)\n",
    "    train_set, test_set = train_test_split(df,train_size=0.6,random_state=42)\n",
    "    x_train = train_set.iloc[:,:-1]\n",
    "    y_train = train_set.iloc[:,-1]\n",
    "    x_test = test_set.iloc[:,:-1]\n",
    "    y_test = test_set.iloc[:,-1]\n",
    "\n",
    "    x_train_transf = full_pipeline.fit_transform(x_train)\n",
    "    x_test_transf = full_pipeline.transform(x_test)\n",
    "    #### EN ESTE CASO PORQUE QUERIA DIFERENCIAR ANOMALY CON 1 Y NORMAL CON 0\n",
    "    y_train_transf = y_train.replace({\"anomaly\": 1, \"normal\": 0})\n",
    "    y_test_transf = y_test.replace({\"anomaly\": 1, \"normal\": 0})\n",
    "    return (x_train_transf,x_test_transf,y_train_transf,y_test_transf)"
   ]
  },
  {
   "cell_type": "code",
   "execution_count": 9,
   "metadata": {},
   "outputs": [],
   "source": [
    "x_train_transf,x_test_transf,y_train_transf,y_test_transf = data_processing(df_num,df_obj)"
   ]
  },
  {
   "cell_type": "code",
   "execution_count": 10,
   "metadata": {},
   "outputs": [
    {
     "name": "stderr",
     "output_type": "stream",
     "text": [
      "/home/fran/anaconda3/lib/python3.11/site-packages/sklearn/linear_model/_logistic.py:458: ConvergenceWarning: lbfgs failed to converge (status=1):\n",
      "STOP: TOTAL NO. of ITERATIONS REACHED LIMIT.\n",
      "\n",
      "Increase the number of iterations (max_iter) or scale the data as shown in:\n",
      "    https://scikit-learn.org/stable/modules/preprocessing.html\n",
      "Please also refer to the documentation for alternative solver options:\n",
      "    https://scikit-learn.org/stable/modules/linear_model.html#logistic-regression\n",
      "  n_iter_i = _check_optimize_result(\n"
     ]
    }
   ],
   "source": [
    "clf = LogisticRegression()\n",
    "clf.fit(x_train_transf,y_train_transf)\n",
    "y_output = clf.predict(x_test_transf)"
   ]
  },
  {
   "cell_type": "code",
   "execution_count": 11,
   "metadata": {},
   "outputs": [],
   "source": [
    "def calcular_precicion(y_test,y_predict):\n",
    "    # Calcular métricas\n",
    "    precision = precision_score(y_test, y_predict)\n",
    "    recall = recall_score(y_test, y_predict)\n",
    "    f1 = f1_score(y_test, y_predict)\n",
    "    accuracy = accuracy_score(y_test, y_predict)\n",
    "\n",
    "    # Imprimir métricas\n",
    "    print(\"Precision:\", precision)\n",
    "    print(\"Recall:\", recall)\n",
    "    print(\"F1 Score:\", f1)\n",
    "    print(\"Accuracy:\", accuracy)"
   ]
  },
  {
   "cell_type": "code",
   "execution_count": 12,
   "metadata": {},
   "outputs": [
    {
     "name": "stdout",
     "output_type": "stream",
     "text": [
      "Precision: 0.9767181649954814\n",
      "Recall: 0.961817180150019\n",
      "F1 Score: 0.9692104026988939\n",
      "Accuracy: 0.9713832109545545\n"
     ]
    }
   ],
   "source": [
    "calcular_precicion(y_test_transf,y_output)"
   ]
  }
 ],
 "metadata": {
  "kernelspec": {
   "display_name": "base",
   "language": "python",
   "name": "python3"
  },
  "language_info": {
   "codemirror_mode": {
    "name": "ipython",
    "version": 3
   },
   "file_extension": ".py",
   "mimetype": "text/x-python",
   "name": "python",
   "nbconvert_exporter": "python",
   "pygments_lexer": "ipython3",
   "version": "3.11.5"
  }
 },
 "nbformat": 4,
 "nbformat_minor": 2
}
